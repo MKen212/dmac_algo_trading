{
 "metadata": {
  "language_info": {
   "codemirror_mode": {
    "name": "ipython",
    "version": 3
   },
   "file_extension": ".py",
   "mimetype": "text/x-python",
   "name": "python",
   "nbconvert_exporter": "python",
   "pygments_lexer": "ipython3",
   "version": "3.9.2-final"
  },
  "orig_nbformat": 2,
  "kernelspec": {
   "name": "python3",
   "display_name": "Python 3.9.2 64-bit ('.venv')",
   "metadata": {
    "interpreter": {
     "hash": "25bb3aed15cb9dec97afae32433caa80f7c97766fac4f60159fe63169ca74eb5"
    }
   }
  }
 },
 "nbformat": 4,
 "nbformat_minor": 2,
 "cells": [
  {
   "cell_type": "code",
   "execution_count": 1,
   "metadata": {},
   "outputs": [],
   "source": [
    "# Description: This program uses the Dual Moving Average Crossover to determine when to buy and sell stock\n",
    "\n",
    "# Import the libraries\n",
    "import yfinance as yf\n",
    "import pandas as pd\n",
    "import numpy as np\n",
    "import matplotlib.pyplot as plt\n",
    "plt.style.use(\"fivethirtyeight\")"
   ]
  },
  {
   "cell_type": "code",
   "execution_count": 5,
   "metadata": {},
   "outputs": [
    {
     "output_type": "execute_result",
     "data": {
      "text/plain": [
       "                 Open       High        Low      Close     Volume  Dividends  \\\n",
       "Date                                                                           \n",
       "2006-10-02   2.310300   2.333988   2.285689   2.302917  712639200        0.0   \n",
       "2006-10-03   2.290304   2.305686   2.251543   2.278921  790708800        0.0   \n",
       "2006-10-04   2.279538   2.321375   2.250620   2.318914  829082800        0.0   \n",
       "2006-10-05   2.292765   2.342908   2.280459   2.301993  683883200        0.0   \n",
       "2006-10-06   2.289381   2.308454   2.270615   2.283228  466958800        0.0   \n",
       "...               ...        ...        ...        ...        ...        ...   \n",
       "2012-12-21  15.905108  16.128569  15.835897  16.118017  596268400        0.0   \n",
       "2012-12-24  16.149674  16.270714  16.098774  16.144087  175753200        0.0   \n",
       "2012-12-26  16.107778  16.122055  15.863214  15.921561  302436400        0.0   \n",
       "2012-12-27  15.938312  16.022421  15.662711  15.985488  455120400        0.0   \n",
       "2012-12-28  15.837452  15.967494  15.770102  15.815725  354278400        0.0   \n",
       "\n",
       "            Stock Splits  \n",
       "Date                      \n",
       "2006-10-02             0  \n",
       "2006-10-03             0  \n",
       "2006-10-04             0  \n",
       "2006-10-05             0  \n",
       "2006-10-06             0  \n",
       "...                  ...  \n",
       "2012-12-21             0  \n",
       "2012-12-24             0  \n",
       "2012-12-26             0  \n",
       "2012-12-27             0  \n",
       "2012-12-28             0  \n",
       "\n",
       "[1572 rows x 7 columns]"
      ],
      "text/html": "<div>\n<style scoped>\n    .dataframe tbody tr th:only-of-type {\n        vertical-align: middle;\n    }\n\n    .dataframe tbody tr th {\n        vertical-align: top;\n    }\n\n    .dataframe thead th {\n        text-align: right;\n    }\n</style>\n<table border=\"1\" class=\"dataframe\">\n  <thead>\n    <tr style=\"text-align: right;\">\n      <th></th>\n      <th>Open</th>\n      <th>High</th>\n      <th>Low</th>\n      <th>Close</th>\n      <th>Volume</th>\n      <th>Dividends</th>\n      <th>Stock Splits</th>\n    </tr>\n    <tr>\n      <th>Date</th>\n      <th></th>\n      <th></th>\n      <th></th>\n      <th></th>\n      <th></th>\n      <th></th>\n      <th></th>\n    </tr>\n  </thead>\n  <tbody>\n    <tr>\n      <th>2006-10-02</th>\n      <td>2.310300</td>\n      <td>2.333988</td>\n      <td>2.285689</td>\n      <td>2.302917</td>\n      <td>712639200</td>\n      <td>0.0</td>\n      <td>0</td>\n    </tr>\n    <tr>\n      <th>2006-10-03</th>\n      <td>2.290304</td>\n      <td>2.305686</td>\n      <td>2.251543</td>\n      <td>2.278921</td>\n      <td>790708800</td>\n      <td>0.0</td>\n      <td>0</td>\n    </tr>\n    <tr>\n      <th>2006-10-04</th>\n      <td>2.279538</td>\n      <td>2.321375</td>\n      <td>2.250620</td>\n      <td>2.318914</td>\n      <td>829082800</td>\n      <td>0.0</td>\n      <td>0</td>\n    </tr>\n    <tr>\n      <th>2006-10-05</th>\n      <td>2.292765</td>\n      <td>2.342908</td>\n      <td>2.280459</td>\n      <td>2.301993</td>\n      <td>683883200</td>\n      <td>0.0</td>\n      <td>0</td>\n    </tr>\n    <tr>\n      <th>2006-10-06</th>\n      <td>2.289381</td>\n      <td>2.308454</td>\n      <td>2.270615</td>\n      <td>2.283228</td>\n      <td>466958800</td>\n      <td>0.0</td>\n      <td>0</td>\n    </tr>\n    <tr>\n      <th>...</th>\n      <td>...</td>\n      <td>...</td>\n      <td>...</td>\n      <td>...</td>\n      <td>...</td>\n      <td>...</td>\n      <td>...</td>\n    </tr>\n    <tr>\n      <th>2012-12-21</th>\n      <td>15.905108</td>\n      <td>16.128569</td>\n      <td>15.835897</td>\n      <td>16.118017</td>\n      <td>596268400</td>\n      <td>0.0</td>\n      <td>0</td>\n    </tr>\n    <tr>\n      <th>2012-12-24</th>\n      <td>16.149674</td>\n      <td>16.270714</td>\n      <td>16.098774</td>\n      <td>16.144087</td>\n      <td>175753200</td>\n      <td>0.0</td>\n      <td>0</td>\n    </tr>\n    <tr>\n      <th>2012-12-26</th>\n      <td>16.107778</td>\n      <td>16.122055</td>\n      <td>15.863214</td>\n      <td>15.921561</td>\n      <td>302436400</td>\n      <td>0.0</td>\n      <td>0</td>\n    </tr>\n    <tr>\n      <th>2012-12-27</th>\n      <td>15.938312</td>\n      <td>16.022421</td>\n      <td>15.662711</td>\n      <td>15.985488</td>\n      <td>455120400</td>\n      <td>0.0</td>\n      <td>0</td>\n    </tr>\n    <tr>\n      <th>2012-12-28</th>\n      <td>15.837452</td>\n      <td>15.967494</td>\n      <td>15.770102</td>\n      <td>15.815725</td>\n      <td>354278400</td>\n      <td>0.0</td>\n      <td>0</td>\n    </tr>\n  </tbody>\n</table>\n<p>1572 rows × 7 columns</p>\n</div>"
     },
     "metadata": {},
     "execution_count": 5
    }
   ],
   "source": [
    "# Load the data\n",
    "stock = yf.Ticker(\"AAPL\")\n",
    "AAPL = stock.history(start=\"2006-10-02\", end=\"2012-12-30\")\n",
    "AAPL"
   ]
  },
  {
   "cell_type": "code",
   "execution_count": null,
   "metadata": {},
   "outputs": [],
   "source": []
  }
 ]
}